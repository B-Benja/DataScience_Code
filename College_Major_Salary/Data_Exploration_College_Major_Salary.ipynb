{
 "cells": [
  {
   "cell_type": "markdown",
   "metadata": {
    "id": "uJ5KYjiPV5Ul"
   },
   "source": [
    "## Introduction\n",
    "\n",
    "A basic exploration of salaries data by college major\n",
    "\n",
    "### Data\n",
    "PayScale Inc. did a year-long survey of 1.2 million Americans with only a bachelor's degree. Data accessed from [Kaggle](https://www.kaggle.com/wsj/college-salaries)."
   ]
  },
  {
   "cell_type": "code",
   "execution_count": 1,
   "metadata": {
    "id": "PNqLi9vgJh97"
   },
   "outputs": [],
   "source": [
    "import pandas as pd"
   ]
  },
  {
   "cell_type": "code",
   "execution_count": 2,
   "metadata": {
    "id": "FLXFmF4tbobK"
   },
   "outputs": [],
   "source": [
    "df = pd.read_csv('degrees-that-pay-back.csv')"
   ]
  },
  {
   "cell_type": "code",
   "execution_count": 3,
   "metadata": {
    "colab": {
     "base_uri": "https://localhost:8080/",
     "height": 237
    },
    "id": "sHIcvGzlbuVR",
    "outputId": "14714f37-a000-4562-fb9a-8c96f9af3b20"
   },
   "outputs": [
    {
     "data": {
      "text/html": [
       "<div>\n",
       "<style scoped>\n",
       "    .dataframe tbody tr th:only-of-type {\n",
       "        vertical-align: middle;\n",
       "    }\n",
       "\n",
       "    .dataframe tbody tr th {\n",
       "        vertical-align: top;\n",
       "    }\n",
       "\n",
       "    .dataframe thead th {\n",
       "        text-align: right;\n",
       "    }\n",
       "</style>\n",
       "<table border=\"1\" class=\"dataframe\">\n",
       "  <thead>\n",
       "    <tr style=\"text-align: right;\">\n",
       "      <th></th>\n",
       "      <th>Undergraduate Major</th>\n",
       "      <th>Starting Median Salary</th>\n",
       "      <th>Mid-Career Median Salary</th>\n",
       "      <th>Percent change from Starting to Mid-Career Salary</th>\n",
       "      <th>Mid-Career 10th Percentile Salary</th>\n",
       "      <th>Mid-Career 25th Percentile Salary</th>\n",
       "      <th>Mid-Career 75th Percentile Salary</th>\n",
       "      <th>Mid-Career 90th Percentile Salary</th>\n",
       "    </tr>\n",
       "  </thead>\n",
       "  <tbody>\n",
       "    <tr>\n",
       "      <th>0</th>\n",
       "      <td>Accounting</td>\n",
       "      <td>$46,000.00</td>\n",
       "      <td>$77,100.00</td>\n",
       "      <td>67.6</td>\n",
       "      <td>$42,200.00</td>\n",
       "      <td>$56,100.00</td>\n",
       "      <td>$108,000.00</td>\n",
       "      <td>$152,000.00</td>\n",
       "    </tr>\n",
       "    <tr>\n",
       "      <th>1</th>\n",
       "      <td>Aerospace Engineering</td>\n",
       "      <td>$57,700.00</td>\n",
       "      <td>$101,000.00</td>\n",
       "      <td>75.0</td>\n",
       "      <td>$64,300.00</td>\n",
       "      <td>$82,100.00</td>\n",
       "      <td>$127,000.00</td>\n",
       "      <td>$161,000.00</td>\n",
       "    </tr>\n",
       "    <tr>\n",
       "      <th>2</th>\n",
       "      <td>Agriculture</td>\n",
       "      <td>$42,600.00</td>\n",
       "      <td>$71,900.00</td>\n",
       "      <td>68.8</td>\n",
       "      <td>$36,300.00</td>\n",
       "      <td>$52,100.00</td>\n",
       "      <td>$96,300.00</td>\n",
       "      <td>$150,000.00</td>\n",
       "    </tr>\n",
       "    <tr>\n",
       "      <th>3</th>\n",
       "      <td>Anthropology</td>\n",
       "      <td>$36,800.00</td>\n",
       "      <td>$61,500.00</td>\n",
       "      <td>67.1</td>\n",
       "      <td>$33,800.00</td>\n",
       "      <td>$45,500.00</td>\n",
       "      <td>$89,300.00</td>\n",
       "      <td>$138,000.00</td>\n",
       "    </tr>\n",
       "    <tr>\n",
       "      <th>4</th>\n",
       "      <td>Architecture</td>\n",
       "      <td>$41,600.00</td>\n",
       "      <td>$76,800.00</td>\n",
       "      <td>84.6</td>\n",
       "      <td>$50,600.00</td>\n",
       "      <td>$62,200.00</td>\n",
       "      <td>$97,000.00</td>\n",
       "      <td>$136,000.00</td>\n",
       "    </tr>\n",
       "  </tbody>\n",
       "</table>\n",
       "</div>"
      ],
      "text/plain": [
       "     Undergraduate Major Starting Median Salary Mid-Career Median Salary  \\\n",
       "0             Accounting             $46,000.00               $77,100.00   \n",
       "1  Aerospace Engineering             $57,700.00              $101,000.00   \n",
       "2            Agriculture             $42,600.00               $71,900.00   \n",
       "3           Anthropology             $36,800.00               $61,500.00   \n",
       "4           Architecture             $41,600.00               $76,800.00   \n",
       "\n",
       "   Percent change from Starting to Mid-Career Salary  \\\n",
       "0                                               67.6   \n",
       "1                                               75.0   \n",
       "2                                               68.8   \n",
       "3                                               67.1   \n",
       "4                                               84.6   \n",
       "\n",
       "  Mid-Career 10th Percentile Salary Mid-Career 25th Percentile Salary  \\\n",
       "0                        $42,200.00                        $56,100.00   \n",
       "1                        $64,300.00                        $82,100.00   \n",
       "2                        $36,300.00                        $52,100.00   \n",
       "3                        $33,800.00                        $45,500.00   \n",
       "4                        $50,600.00                        $62,200.00   \n",
       "\n",
       "  Mid-Career 75th Percentile Salary Mid-Career 90th Percentile Salary  \n",
       "0                       $108,000.00                       $152,000.00  \n",
       "1                       $127,000.00                       $161,000.00  \n",
       "2                        $96,300.00                       $150,000.00  \n",
       "3                        $89,300.00                       $138,000.00  \n",
       "4                        $97,000.00                       $136,000.00  "
      ]
     },
     "execution_count": 3,
     "metadata": {},
     "output_type": "execute_result"
    }
   ],
   "source": [
    "df.head()"
   ]
  },
  {
   "cell_type": "markdown",
   "metadata": {
    "id": "KH2jLKmvWB0r"
   },
   "source": [
    "# Data Exploration and Data Cleaning"
   ]
  },
  {
   "cell_type": "code",
   "execution_count": 4,
   "metadata": {
    "colab": {
     "base_uri": "https://localhost:8080/"
    },
    "id": "HngjSfIXfXZ-",
    "outputId": "1a5c94fe-989b-444e-9a59-f793bed061e1"
   },
   "outputs": [
    {
     "data": {
      "text/plain": [
       "(50, 8)"
      ]
     },
     "execution_count": 4,
     "metadata": {},
     "output_type": "execute_result"
    }
   ],
   "source": [
    "df.shape"
   ]
  },
  {
   "cell_type": "code",
   "execution_count": 5,
   "metadata": {
    "colab": {
     "base_uri": "https://localhost:8080/"
    },
    "id": "nbHfTGssi5dr",
    "outputId": "a969def2-27d9-4e01-e26b-ae6b5b4d810a"
   },
   "outputs": [
    {
     "data": {
      "text/plain": [
       "Index(['Undergraduate Major', 'Starting Median Salary',\n",
       "       'Mid-Career Median Salary',\n",
       "       'Percent change from Starting to Mid-Career Salary',\n",
       "       'Mid-Career 10th Percentile Salary',\n",
       "       'Mid-Career 25th Percentile Salary',\n",
       "       'Mid-Career 75th Percentile Salary',\n",
       "       'Mid-Career 90th Percentile Salary'],\n",
       "      dtype='object')"
      ]
     },
     "execution_count": 5,
     "metadata": {},
     "output_type": "execute_result"
    }
   ],
   "source": [
    "df.columns"
   ]
  },
  {
   "cell_type": "code",
   "execution_count": 6,
   "metadata": {
    "colab": {
     "base_uri": "https://localhost:8080/",
     "height": 1000
    },
    "id": "Lwc7l1ZsjXkt",
    "outputId": "72facfe5-0297-48c5-f21e-35c45b179967"
   },
   "outputs": [],
   "source": [
    "# show NA values\n",
    "# df.isna()"
   ]
  },
  {
   "cell_type": "code",
   "execution_count": 7,
   "metadata": {
    "colab": {
     "base_uri": "https://localhost:8080/",
     "height": 237
    },
    "id": "gOxwMshdk207",
    "outputId": "02de10d7-770a-4fd6-bab2-3ddd66a97862"
   },
   "outputs": [
    {
     "data": {
      "text/html": [
       "<div>\n",
       "<style scoped>\n",
       "    .dataframe tbody tr th:only-of-type {\n",
       "        vertical-align: middle;\n",
       "    }\n",
       "\n",
       "    .dataframe tbody tr th {\n",
       "        vertical-align: top;\n",
       "    }\n",
       "\n",
       "    .dataframe thead th {\n",
       "        text-align: right;\n",
       "    }\n",
       "</style>\n",
       "<table border=\"1\" class=\"dataframe\">\n",
       "  <thead>\n",
       "    <tr style=\"text-align: right;\">\n",
       "      <th></th>\n",
       "      <th>Undergraduate Major</th>\n",
       "      <th>Starting Median Salary</th>\n",
       "      <th>Mid-Career Median Salary</th>\n",
       "      <th>Percent change from Starting to Mid-Career Salary</th>\n",
       "      <th>Mid-Career 10th Percentile Salary</th>\n",
       "      <th>Mid-Career 25th Percentile Salary</th>\n",
       "      <th>Mid-Career 75th Percentile Salary</th>\n",
       "      <th>Mid-Career 90th Percentile Salary</th>\n",
       "    </tr>\n",
       "  </thead>\n",
       "  <tbody>\n",
       "    <tr>\n",
       "      <th>45</th>\n",
       "      <td>Political Science</td>\n",
       "      <td>$40,800.00</td>\n",
       "      <td>$78,200.00</td>\n",
       "      <td>91.7</td>\n",
       "      <td>$41,200.00</td>\n",
       "      <td>$55,300.00</td>\n",
       "      <td>$114,000.00</td>\n",
       "      <td>$168,000.00</td>\n",
       "    </tr>\n",
       "    <tr>\n",
       "      <th>46</th>\n",
       "      <td>Psychology</td>\n",
       "      <td>$35,900.00</td>\n",
       "      <td>$60,400.00</td>\n",
       "      <td>68.2</td>\n",
       "      <td>$31,600.00</td>\n",
       "      <td>$42,100.00</td>\n",
       "      <td>$87,500.00</td>\n",
       "      <td>$127,000.00</td>\n",
       "    </tr>\n",
       "    <tr>\n",
       "      <th>47</th>\n",
       "      <td>Religion</td>\n",
       "      <td>$34,100.00</td>\n",
       "      <td>$52,000.00</td>\n",
       "      <td>52.5</td>\n",
       "      <td>$29,700.00</td>\n",
       "      <td>$36,500.00</td>\n",
       "      <td>$70,900.00</td>\n",
       "      <td>$96,400.00</td>\n",
       "    </tr>\n",
       "    <tr>\n",
       "      <th>48</th>\n",
       "      <td>Sociology</td>\n",
       "      <td>$36,500.00</td>\n",
       "      <td>$58,200.00</td>\n",
       "      <td>59.5</td>\n",
       "      <td>$30,700.00</td>\n",
       "      <td>$40,400.00</td>\n",
       "      <td>$81,200.00</td>\n",
       "      <td>$118,000.00</td>\n",
       "    </tr>\n",
       "    <tr>\n",
       "      <th>49</th>\n",
       "      <td>Spanish</td>\n",
       "      <td>$34,000.00</td>\n",
       "      <td>$53,100.00</td>\n",
       "      <td>56.2</td>\n",
       "      <td>$31,000.00</td>\n",
       "      <td>$40,000.00</td>\n",
       "      <td>$76,800.00</td>\n",
       "      <td>$96,400.00</td>\n",
       "    </tr>\n",
       "  </tbody>\n",
       "</table>\n",
       "</div>"
      ],
      "text/plain": [
       "   Undergraduate Major Starting Median Salary Mid-Career Median Salary  \\\n",
       "45   Political Science             $40,800.00               $78,200.00   \n",
       "46          Psychology             $35,900.00               $60,400.00   \n",
       "47            Religion             $34,100.00               $52,000.00   \n",
       "48           Sociology             $36,500.00               $58,200.00   \n",
       "49             Spanish             $34,000.00               $53,100.00   \n",
       "\n",
       "    Percent change from Starting to Mid-Career Salary  \\\n",
       "45                                               91.7   \n",
       "46                                               68.2   \n",
       "47                                               52.5   \n",
       "48                                               59.5   \n",
       "49                                               56.2   \n",
       "\n",
       "   Mid-Career 10th Percentile Salary Mid-Career 25th Percentile Salary  \\\n",
       "45                        $41,200.00                        $55,300.00   \n",
       "46                        $31,600.00                        $42,100.00   \n",
       "47                        $29,700.00                        $36,500.00   \n",
       "48                        $30,700.00                        $40,400.00   \n",
       "49                        $31,000.00                        $40,000.00   \n",
       "\n",
       "   Mid-Career 75th Percentile Salary Mid-Career 90th Percentile Salary  \n",
       "45                       $114,000.00                       $168,000.00  \n",
       "46                        $87,500.00                       $127,000.00  \n",
       "47                        $70,900.00                        $96,400.00  \n",
       "48                        $81,200.00                       $118,000.00  \n",
       "49                        $76,800.00                        $96,400.00  "
      ]
     },
     "execution_count": 7,
     "metadata": {},
     "output_type": "execute_result"
    }
   ],
   "source": [
    "df.tail()"
   ]
  },
  {
   "cell_type": "code",
   "execution_count": 8,
   "metadata": {
    "colab": {
     "base_uri": "https://localhost:8080/",
     "height": 219
    },
    "id": "ag1fbMC0ltur",
    "outputId": "ddf82680-ca3e-42a0-9fd1-36d49726789e"
   },
   "outputs": [
    {
     "data": {
      "text/html": [
       "<div>\n",
       "<style scoped>\n",
       "    .dataframe tbody tr th:only-of-type {\n",
       "        vertical-align: middle;\n",
       "    }\n",
       "\n",
       "    .dataframe tbody tr th {\n",
       "        vertical-align: top;\n",
       "    }\n",
       "\n",
       "    .dataframe thead th {\n",
       "        text-align: right;\n",
       "    }\n",
       "</style>\n",
       "<table border=\"1\" class=\"dataframe\">\n",
       "  <thead>\n",
       "    <tr style=\"text-align: right;\">\n",
       "      <th></th>\n",
       "      <th>Undergraduate Major</th>\n",
       "      <th>Starting Median Salary</th>\n",
       "      <th>Mid-Career Median Salary</th>\n",
       "      <th>Percent change from Starting to Mid-Career Salary</th>\n",
       "      <th>Mid-Career 10th Percentile Salary</th>\n",
       "      <th>Mid-Career 25th Percentile Salary</th>\n",
       "      <th>Mid-Career 75th Percentile Salary</th>\n",
       "      <th>Mid-Career 90th Percentile Salary</th>\n",
       "    </tr>\n",
       "  </thead>\n",
       "  <tbody>\n",
       "    <tr>\n",
       "      <th>45</th>\n",
       "      <td>Political Science</td>\n",
       "      <td>$40,800.00</td>\n",
       "      <td>$78,200.00</td>\n",
       "      <td>91.7</td>\n",
       "      <td>$41,200.00</td>\n",
       "      <td>$55,300.00</td>\n",
       "      <td>$114,000.00</td>\n",
       "      <td>$168,000.00</td>\n",
       "    </tr>\n",
       "    <tr>\n",
       "      <th>46</th>\n",
       "      <td>Psychology</td>\n",
       "      <td>$35,900.00</td>\n",
       "      <td>$60,400.00</td>\n",
       "      <td>68.2</td>\n",
       "      <td>$31,600.00</td>\n",
       "      <td>$42,100.00</td>\n",
       "      <td>$87,500.00</td>\n",
       "      <td>$127,000.00</td>\n",
       "    </tr>\n",
       "    <tr>\n",
       "      <th>47</th>\n",
       "      <td>Religion</td>\n",
       "      <td>$34,100.00</td>\n",
       "      <td>$52,000.00</td>\n",
       "      <td>52.5</td>\n",
       "      <td>$29,700.00</td>\n",
       "      <td>$36,500.00</td>\n",
       "      <td>$70,900.00</td>\n",
       "      <td>$96,400.00</td>\n",
       "    </tr>\n",
       "    <tr>\n",
       "      <th>48</th>\n",
       "      <td>Sociology</td>\n",
       "      <td>$36,500.00</td>\n",
       "      <td>$58,200.00</td>\n",
       "      <td>59.5</td>\n",
       "      <td>$30,700.00</td>\n",
       "      <td>$40,400.00</td>\n",
       "      <td>$81,200.00</td>\n",
       "      <td>$118,000.00</td>\n",
       "    </tr>\n",
       "    <tr>\n",
       "      <th>49</th>\n",
       "      <td>Spanish</td>\n",
       "      <td>$34,000.00</td>\n",
       "      <td>$53,100.00</td>\n",
       "      <td>56.2</td>\n",
       "      <td>$31,000.00</td>\n",
       "      <td>$40,000.00</td>\n",
       "      <td>$76,800.00</td>\n",
       "      <td>$96,400.00</td>\n",
       "    </tr>\n",
       "  </tbody>\n",
       "</table>\n",
       "</div>"
      ],
      "text/plain": [
       "   Undergraduate Major Starting Median Salary Mid-Career Median Salary  \\\n",
       "45   Political Science             $40,800.00               $78,200.00   \n",
       "46          Psychology             $35,900.00               $60,400.00   \n",
       "47            Religion             $34,100.00               $52,000.00   \n",
       "48           Sociology             $36,500.00               $58,200.00   \n",
       "49             Spanish             $34,000.00               $53,100.00   \n",
       "\n",
       "    Percent change from Starting to Mid-Career Salary  \\\n",
       "45                                               91.7   \n",
       "46                                               68.2   \n",
       "47                                               52.5   \n",
       "48                                               59.5   \n",
       "49                                               56.2   \n",
       "\n",
       "   Mid-Career 10th Percentile Salary Mid-Career 25th Percentile Salary  \\\n",
       "45                        $41,200.00                        $55,300.00   \n",
       "46                        $31,600.00                        $42,100.00   \n",
       "47                        $29,700.00                        $36,500.00   \n",
       "48                        $30,700.00                        $40,400.00   \n",
       "49                        $31,000.00                        $40,000.00   \n",
       "\n",
       "   Mid-Career 75th Percentile Salary Mid-Career 90th Percentile Salary  \n",
       "45                       $114,000.00                       $168,000.00  \n",
       "46                        $87,500.00                       $127,000.00  \n",
       "47                        $70,900.00                        $96,400.00  \n",
       "48                        $81,200.00                       $118,000.00  \n",
       "49                        $76,800.00                        $96,400.00  "
      ]
     },
     "execution_count": 8,
     "metadata": {},
     "output_type": "execute_result"
    }
   ],
   "source": [
    "clean_df = df.dropna()\n",
    "clean_df.tail()"
   ]
  },
  {
   "cell_type": "markdown",
   "metadata": {
    "id": "oaKtSQloWVC2"
   },
   "source": [
    "# Cleaning data, changing data type and doing a quick exploration"
   ]
  },
  {
   "cell_type": "code",
   "execution_count": 9,
   "metadata": {},
   "outputs": [
    {
     "name": "stderr",
     "output_type": "stream",
     "text": [
      "C:\\Users\\benja\\AppData\\Local\\Temp/ipykernel_8436/1521725067.py:2: FutureWarning: The default value of regex will change from True to False in a future version. In addition, single character regular expressions will*not* be treated as literal strings when regex=True.\n",
      "  clean_df['Starting Median Salary'] = clean_df['Starting Median Salary'].astype(str).str.replace('$', '')\n"
     ]
    }
   ],
   "source": [
    "# first we need to remove '$' and convert the type to numeric\n",
    "clean_df['Starting Median Salary'] = clean_df['Starting Median Salary'].astype(str).str.replace('$', '')\n",
    "clean_df['Starting Median Salary'] = clean_df['Starting Median Salary'].astype(str).str.replace(',', '')\n",
    "clean_df['Starting Median Salary'] = pd.to_numeric(clean_df['Starting Median Salary'])"
   ]
  },
  {
   "cell_type": "code",
   "execution_count": 10,
   "metadata": {
    "colab": {
     "base_uri": "https://localhost:8080/"
    },
    "id": "jmG-K0HPnrO3",
    "outputId": "79a9500b-26a8-430f-dcd1-3ec77e6091c8"
   },
   "outputs": [
    {
     "data": {
      "text/plain": [
       "74300.0"
      ]
     },
     "execution_count": 10,
     "metadata": {},
     "output_type": "execute_result"
    }
   ],
   "source": [
    "# show the max. value\n",
    "clean_df['Starting Median Salary'].max()"
   ]
  },
  {
   "cell_type": "code",
   "execution_count": 11,
   "metadata": {
    "colab": {
     "base_uri": "https://localhost:8080/"
    },
    "id": "PAoOp9r8nsKo",
    "outputId": "de404d22-62d1-43d8-a3d0-018ef81d2a22"
   },
   "outputs": [
    {
     "data": {
      "text/plain": [
       "43"
      ]
     },
     "execution_count": 11,
     "metadata": {},
     "output_type": "execute_result"
    }
   ],
   "source": [
    "# return index of the maximum element.\n",
    "clean_df['Starting Median Salary'].idxmax()"
   ]
  },
  {
   "cell_type": "code",
   "execution_count": 12,
   "metadata": {
    "colab": {
     "base_uri": "https://localhost:8080/"
    },
    "id": "MzEgHdhZodAq",
    "outputId": "57cee6bb-dff0-407f-87a7-a020e7736261"
   },
   "outputs": [
    {
     "data": {
      "text/plain": [
       "74300.0"
      ]
     },
     "execution_count": 12,
     "metadata": {},
     "output_type": "execute_result"
    }
   ],
   "source": [
    "# control if correct\n",
    "clean_df['Starting Median Salary'][43]"
   ]
  },
  {
   "cell_type": "code",
   "execution_count": 13,
   "metadata": {
    "colab": {
     "base_uri": "https://localhost:8080/",
     "height": 35
    },
    "id": "A8RqDxtto48F",
    "outputId": "b2bd670b-1cf5-4798-8af6-92b55c365c57"
   },
   "outputs": [
    {
     "data": {
      "text/plain": [
       "'Physician Assistant'"
      ]
     },
     "execution_count": 13,
     "metadata": {},
     "output_type": "execute_result"
    }
   ],
   "source": [
    "# which major is earning the highest startin salary (median)\n",
    "clean_df['Undergraduate Major'].loc[43]"
   ]
  },
  {
   "cell_type": "code",
   "execution_count": 14,
   "metadata": {
    "colab": {
     "base_uri": "https://localhost:8080/"
    },
    "id": "Se2YRmsypgqw",
    "outputId": "3a9fdf24-40d8-4be2-e499-abfced6a8174"
   },
   "outputs": [
    {
     "data": {
      "text/plain": [
       "Undergraduate Major                                  Physician Assistant\n",
       "Starting Median Salary                                           74300.0\n",
       "Mid-Career Median Salary                                      $91,700.00\n",
       "Percent change from Starting to Mid-Career Salary                   23.4\n",
       "Mid-Career 10th Percentile Salary                             $66,400.00\n",
       "Mid-Career 25th Percentile Salary                             $75,200.00\n",
       "Mid-Career 75th Percentile Salary                            $108,000.00\n",
       "Mid-Career 90th Percentile Salary                            $124,000.00\n",
       "Name: 43, dtype: object"
      ]
     },
     "execution_count": 14,
     "metadata": {},
     "output_type": "execute_result"
    }
   ],
   "source": [
    "clean_df.loc[43]"
   ]
  },
  {
   "cell_type": "markdown",
   "metadata": {
    "id": "18_KA7l7WfDh"
   },
   "source": [
    "## Highest and Lowest Earning Degrees"
   ]
  },
  {
   "cell_type": "code",
   "execution_count": 15,
   "metadata": {
    "colab": {
     "base_uri": "https://localhost:8080/",
     "height": 70
    },
    "id": "_EvDORASpjDu",
    "outputId": "28f4bb3b-bb6b-4181-c114-5d38584d4015"
   },
   "outputs": [
    {
     "name": "stderr",
     "output_type": "stream",
     "text": [
      "C:\\Users\\benja\\AppData\\Local\\Temp/ipykernel_8436/2276647436.py:2: FutureWarning: The default value of regex will change from True to False in a future version. In addition, single character regular expressions will*not* be treated as literal strings when regex=True.\n",
      "  clean_df['Mid-Career Median Salary'] = clean_df['Mid-Career Median Salary'].astype(str).str.replace('$', '')\n",
      "C:\\Users\\benja\\AppData\\Local\\Temp/ipykernel_8436/2276647436.py:8: FutureWarning: The default value of regex will change from True to False in a future version. In addition, single character regular expressions will*not* be treated as literal strings when regex=True.\n",
      "  clean_df['Mid-Career 10th Percentile Salary'] = clean_df['Mid-Career 10th Percentile Salary'].astype(str).str.replace('$', '')\n",
      "C:\\Users\\benja\\AppData\\Local\\Temp/ipykernel_8436/2276647436.py:12: FutureWarning: The default value of regex will change from True to False in a future version. In addition, single character regular expressions will*not* be treated as literal strings when regex=True.\n",
      "  clean_df['Mid-Career 25th Percentile Salary'] = clean_df['Mid-Career 25th Percentile Salary'].astype(str).str.replace('$', '')\n",
      "C:\\Users\\benja\\AppData\\Local\\Temp/ipykernel_8436/2276647436.py:16: FutureWarning: The default value of regex will change from True to False in a future version. In addition, single character regular expressions will*not* be treated as literal strings when regex=True.\n",
      "  clean_df['Mid-Career 75th Percentile Salary'] = clean_df['Mid-Career 75th Percentile Salary'].astype(str).str.replace('$', '')\n",
      "C:\\Users\\benja\\AppData\\Local\\Temp/ipykernel_8436/2276647436.py:20: FutureWarning: The default value of regex will change from True to False in a future version. In addition, single character regular expressions will*not* be treated as literal strings when regex=True.\n",
      "  clean_df['Mid-Career 90th Percentile Salary'] = clean_df['Mid-Career 90th Percentile Salary'].astype(str).str.replace('$', '')\n"
     ]
    }
   ],
   "source": [
    "# first we need to remove '$' and convert the type to numeric; same as before\n",
    "clean_df['Mid-Career Median Salary'] = clean_df['Mid-Career Median Salary'].astype(str).str.replace('$', '')\n",
    "clean_df['Mid-Career Median Salary'] = clean_df['Mid-Career Median Salary'].astype(str).str.replace(',', '')\n",
    "clean_df['Mid-Career Median Salary'] = pd.to_numeric(clean_df['Mid-Career Median Salary'])\n",
    "\n",
    "\n",
    "# since we use the columns later, we do the same for the other columns as well\n",
    "clean_df['Mid-Career 10th Percentile Salary'] = clean_df['Mid-Career 10th Percentile Salary'].astype(str).str.replace('$', '')\n",
    "clean_df['Mid-Career 10th Percentile Salary'] = clean_df['Mid-Career 10th Percentile Salary'].astype(str).str.replace(',', '')\n",
    "clean_df['Mid-Career 10th Percentile Salary'] = pd.to_numeric(clean_df['Mid-Career 10th Percentile Salary'])\n",
    "\n",
    "clean_df['Mid-Career 25th Percentile Salary'] = clean_df['Mid-Career 25th Percentile Salary'].astype(str).str.replace('$', '')\n",
    "clean_df['Mid-Career 25th Percentile Salary'] = clean_df['Mid-Career 25th Percentile Salary'].astype(str).str.replace(',', '')\n",
    "clean_df['Mid-Career 25th Percentile Salary'] = pd.to_numeric(clean_df['Mid-Career 25th Percentile Salary'])\n",
    "\n",
    "clean_df['Mid-Career 75th Percentile Salary'] = clean_df['Mid-Career 75th Percentile Salary'].astype(str).str.replace('$', '')\n",
    "clean_df['Mid-Career 75th Percentile Salary'] = clean_df['Mid-Career 75th Percentile Salary'].astype(str).str.replace(',', '')\n",
    "clean_df['Mid-Career 75th Percentile Salary'] = pd.to_numeric(clean_df['Mid-Career 75th Percentile Salary'])\n",
    "\n",
    "clean_df['Mid-Career 90th Percentile Salary'] = clean_df['Mid-Career 90th Percentile Salary'].astype(str).str.replace('$', '')\n",
    "clean_df['Mid-Career 90th Percentile Salary'] = clean_df['Mid-Career 90th Percentile Salary'].astype(str).str.replace(',', '')\n",
    "clean_df['Mid-Career 90th Percentile Salary'] = pd.to_numeric(clean_df['Mid-Career 90th Percentile Salary'])"
   ]
  },
  {
   "cell_type": "code",
   "execution_count": 16,
   "metadata": {},
   "outputs": [
    {
     "name": "stdout",
     "output_type": "stream",
     "text": [
      "107000.0\n",
      "Index for the salary: 8\n"
     ]
    },
    {
     "data": {
      "text/plain": [
       "'Chemical Engineering'"
      ]
     },
     "execution_count": 16,
     "metadata": {},
     "output_type": "execute_result"
    }
   ],
   "source": [
    "print(clean_df['Mid-Career Median Salary'].max())\n",
    "print(f\"Index for the salary: {clean_df['Mid-Career Median Salary'].idxmax()}\")\n",
    "clean_df['Undergraduate Major'][8]"
   ]
  },
  {
   "cell_type": "code",
   "execution_count": 17,
   "metadata": {
    "colab": {
     "base_uri": "https://localhost:8080/",
     "height": 53
    },
    "id": "dQGN8gZntL2V",
    "outputId": "de1d812a-129e-4ebd-9f27-a87ffc8b51b5"
   },
   "outputs": [
    {
     "name": "stdout",
     "output_type": "stream",
     "text": [
      "34000.0\n"
     ]
    },
    {
     "data": {
      "text/plain": [
       "'Spanish'"
      ]
     },
     "execution_count": 17,
     "metadata": {},
     "output_type": "execute_result"
    }
   ],
   "source": [
    "print(clean_df['Starting Median Salary'].min())\n",
    "clean_df['Undergraduate Major'].loc[clean_df['Starting Median Salary'].idxmin()]"
   ]
  },
  {
   "cell_type": "code",
   "execution_count": 18,
   "metadata": {
    "colab": {
     "base_uri": "https://localhost:8080/"
    },
    "id": "Z0rvJWSdtNN5",
    "outputId": "8bac1794-a54a-40ff-992a-a3051cc5d60e"
   },
   "outputs": [
    {
     "data": {
      "text/plain": [
       "Undergraduate Major                                  Education\n",
       "Starting Median Salary                                 34900.0\n",
       "Mid-Career Median Salary                               52000.0\n",
       "Percent change from Starting to Mid-Career Salary         49.0\n",
       "Mid-Career 10th Percentile Salary                      29300.0\n",
       "Mid-Career 25th Percentile Salary                      37900.0\n",
       "Mid-Career 75th Percentile Salary                      73400.0\n",
       "Mid-Career 90th Percentile Salary                     102000.0\n",
       "Name: 18, dtype: object"
      ]
     },
     "execution_count": 18,
     "metadata": {},
     "output_type": "execute_result"
    }
   ],
   "source": [
    "clean_df.loc[clean_df['Mid-Career Median Salary'].idxmin()]"
   ]
  },
  {
   "cell_type": "markdown",
   "metadata": {
    "id": "cd_pPQo7Wkxi"
   },
   "source": [
    "# Majors with the Most Potential vs Lowest Risk"
   ]
  },
  {
   "cell_type": "code",
   "execution_count": 19,
   "metadata": {
    "colab": {
     "base_uri": "https://localhost:8080/",
     "height": 254
    },
    "id": "Pqw8VPbEtpcR",
    "outputId": "a20724d5-4705-4925-b41d-fa778690b358"
   },
   "outputs": [
    {
     "data": {
      "text/html": [
       "<div>\n",
       "<style scoped>\n",
       "    .dataframe tbody tr th:only-of-type {\n",
       "        vertical-align: middle;\n",
       "    }\n",
       "\n",
       "    .dataframe tbody tr th {\n",
       "        vertical-align: top;\n",
       "    }\n",
       "\n",
       "    .dataframe thead th {\n",
       "        text-align: right;\n",
       "    }\n",
       "</style>\n",
       "<table border=\"1\" class=\"dataframe\">\n",
       "  <thead>\n",
       "    <tr style=\"text-align: right;\">\n",
       "      <th></th>\n",
       "      <th>Undergraduate Major</th>\n",
       "      <th>Spread</th>\n",
       "      <th>Starting Median Salary</th>\n",
       "      <th>Mid-Career Median Salary</th>\n",
       "      <th>Percent change from Starting to Mid-Career Salary</th>\n",
       "      <th>Mid-Career 10th Percentile Salary</th>\n",
       "      <th>Mid-Career 25th Percentile Salary</th>\n",
       "      <th>Mid-Career 75th Percentile Salary</th>\n",
       "      <th>Mid-Career 90th Percentile Salary</th>\n",
       "    </tr>\n",
       "  </thead>\n",
       "  <tbody>\n",
       "    <tr>\n",
       "      <th>0</th>\n",
       "      <td>Accounting</td>\n",
       "      <td>109800.0</td>\n",
       "      <td>46000.0</td>\n",
       "      <td>77100.0</td>\n",
       "      <td>67.6</td>\n",
       "      <td>42200.0</td>\n",
       "      <td>56100.0</td>\n",
       "      <td>108000.0</td>\n",
       "      <td>152000.0</td>\n",
       "    </tr>\n",
       "    <tr>\n",
       "      <th>1</th>\n",
       "      <td>Aerospace Engineering</td>\n",
       "      <td>96700.0</td>\n",
       "      <td>57700.0</td>\n",
       "      <td>101000.0</td>\n",
       "      <td>75.0</td>\n",
       "      <td>64300.0</td>\n",
       "      <td>82100.0</td>\n",
       "      <td>127000.0</td>\n",
       "      <td>161000.0</td>\n",
       "    </tr>\n",
       "    <tr>\n",
       "      <th>2</th>\n",
       "      <td>Agriculture</td>\n",
       "      <td>113700.0</td>\n",
       "      <td>42600.0</td>\n",
       "      <td>71900.0</td>\n",
       "      <td>68.8</td>\n",
       "      <td>36300.0</td>\n",
       "      <td>52100.0</td>\n",
       "      <td>96300.0</td>\n",
       "      <td>150000.0</td>\n",
       "    </tr>\n",
       "    <tr>\n",
       "      <th>3</th>\n",
       "      <td>Anthropology</td>\n",
       "      <td>104200.0</td>\n",
       "      <td>36800.0</td>\n",
       "      <td>61500.0</td>\n",
       "      <td>67.1</td>\n",
       "      <td>33800.0</td>\n",
       "      <td>45500.0</td>\n",
       "      <td>89300.0</td>\n",
       "      <td>138000.0</td>\n",
       "    </tr>\n",
       "    <tr>\n",
       "      <th>4</th>\n",
       "      <td>Architecture</td>\n",
       "      <td>85400.0</td>\n",
       "      <td>41600.0</td>\n",
       "      <td>76800.0</td>\n",
       "      <td>84.6</td>\n",
       "      <td>50600.0</td>\n",
       "      <td>62200.0</td>\n",
       "      <td>97000.0</td>\n",
       "      <td>136000.0</td>\n",
       "    </tr>\n",
       "  </tbody>\n",
       "</table>\n",
       "</div>"
      ],
      "text/plain": [
       "     Undergraduate Major    Spread  Starting Median Salary  \\\n",
       "0             Accounting  109800.0                 46000.0   \n",
       "1  Aerospace Engineering   96700.0                 57700.0   \n",
       "2            Agriculture  113700.0                 42600.0   \n",
       "3           Anthropology  104200.0                 36800.0   \n",
       "4           Architecture   85400.0                 41600.0   \n",
       "\n",
       "   Mid-Career Median Salary  \\\n",
       "0                   77100.0   \n",
       "1                  101000.0   \n",
       "2                   71900.0   \n",
       "3                   61500.0   \n",
       "4                   76800.0   \n",
       "\n",
       "   Percent change from Starting to Mid-Career Salary  \\\n",
       "0                                               67.6   \n",
       "1                                               75.0   \n",
       "2                                               68.8   \n",
       "3                                               67.1   \n",
       "4                                               84.6   \n",
       "\n",
       "   Mid-Career 10th Percentile Salary  Mid-Career 25th Percentile Salary  \\\n",
       "0                            42200.0                            56100.0   \n",
       "1                            64300.0                            82100.0   \n",
       "2                            36300.0                            52100.0   \n",
       "3                            33800.0                            45500.0   \n",
       "4                            50600.0                            62200.0   \n",
       "\n",
       "   Mid-Career 75th Percentile Salary  Mid-Career 90th Percentile Salary  \n",
       "0                           108000.0                           152000.0  \n",
       "1                           127000.0                           161000.0  \n",
       "2                            96300.0                           150000.0  \n",
       "3                            89300.0                           138000.0  \n",
       "4                            97000.0                           136000.0  "
      ]
     },
     "execution_count": 19,
     "metadata": {},
     "output_type": "execute_result"
    }
   ],
   "source": [
    "# calculate the variance\n",
    "spread_col = clean_df['Mid-Career 90th Percentile Salary'] - clean_df['Mid-Career 10th Percentile Salary']\n",
    "clean_df.insert(1, 'Spread', spread_col)\n",
    "clean_df.head()"
   ]
  },
  {
   "cell_type": "code",
   "execution_count": 20,
   "metadata": {
    "colab": {
     "base_uri": "https://localhost:8080/",
     "height": 202
    },
    "id": "uBokcGx_uj6R",
    "outputId": "8449be8f-8d34-49a1-add0-a55d2b0bb050"
   },
   "outputs": [
    {
     "data": {
      "text/html": [
       "<div>\n",
       "<style scoped>\n",
       "    .dataframe tbody tr th:only-of-type {\n",
       "        vertical-align: middle;\n",
       "    }\n",
       "\n",
       "    .dataframe tbody tr th {\n",
       "        vertical-align: top;\n",
       "    }\n",
       "\n",
       "    .dataframe thead th {\n",
       "        text-align: right;\n",
       "    }\n",
       "</style>\n",
       "<table border=\"1\" class=\"dataframe\">\n",
       "  <thead>\n",
       "    <tr style=\"text-align: right;\">\n",
       "      <th></th>\n",
       "      <th>Undergraduate Major</th>\n",
       "      <th>Spread</th>\n",
       "    </tr>\n",
       "  </thead>\n",
       "  <tbody>\n",
       "    <tr>\n",
       "      <th>40</th>\n",
       "      <td>Nursing</td>\n",
       "      <td>50700.0</td>\n",
       "    </tr>\n",
       "    <tr>\n",
       "      <th>43</th>\n",
       "      <td>Physician Assistant</td>\n",
       "      <td>57600.0</td>\n",
       "    </tr>\n",
       "    <tr>\n",
       "      <th>41</th>\n",
       "      <td>Nutrition</td>\n",
       "      <td>65300.0</td>\n",
       "    </tr>\n",
       "    <tr>\n",
       "      <th>49</th>\n",
       "      <td>Spanish</td>\n",
       "      <td>65400.0</td>\n",
       "    </tr>\n",
       "    <tr>\n",
       "      <th>27</th>\n",
       "      <td>Health Care Administration</td>\n",
       "      <td>66400.0</td>\n",
       "    </tr>\n",
       "  </tbody>\n",
       "</table>\n",
       "</div>"
      ],
      "text/plain": [
       "           Undergraduate Major   Spread\n",
       "40                     Nursing  50700.0\n",
       "43         Physician Assistant  57600.0\n",
       "41                   Nutrition  65300.0\n",
       "49                     Spanish  65400.0\n",
       "27  Health Care Administration  66400.0"
      ]
     },
     "execution_count": 20,
     "metadata": {},
     "output_type": "execute_result"
    }
   ],
   "source": [
    "low_risk = clean_df.sort_values('Spread')\n",
    "low_risk[['Undergraduate Major', 'Spread']].head()"
   ]
  },
  {
   "cell_type": "markdown",
   "metadata": {
    "id": "hQBSdbJIWqJY"
   },
   "source": [
    "# Degrees with the Highest Potential"
   ]
  },
  {
   "cell_type": "code",
   "execution_count": 21,
   "metadata": {
    "colab": {
     "base_uri": "https://localhost:8080/",
     "height": 202
    },
    "id": "SShtBkCQKk3O",
    "outputId": "1c26b91b-f17f-41ca-f7d6-32f3fa6d138a"
   },
   "outputs": [
    {
     "data": {
      "text/html": [
       "<div>\n",
       "<style scoped>\n",
       "    .dataframe tbody tr th:only-of-type {\n",
       "        vertical-align: middle;\n",
       "    }\n",
       "\n",
       "    .dataframe tbody tr th {\n",
       "        vertical-align: top;\n",
       "    }\n",
       "\n",
       "    .dataframe thead th {\n",
       "        text-align: right;\n",
       "    }\n",
       "</style>\n",
       "<table border=\"1\" class=\"dataframe\">\n",
       "  <thead>\n",
       "    <tr style=\"text-align: right;\">\n",
       "      <th></th>\n",
       "      <th>Undergraduate Major</th>\n",
       "      <th>Mid-Career 90th Percentile Salary</th>\n",
       "    </tr>\n",
       "  </thead>\n",
       "  <tbody>\n",
       "    <tr>\n",
       "      <th>17</th>\n",
       "      <td>Economics</td>\n",
       "      <td>210000.0</td>\n",
       "    </tr>\n",
       "    <tr>\n",
       "      <th>22</th>\n",
       "      <td>Finance</td>\n",
       "      <td>195000.0</td>\n",
       "    </tr>\n",
       "    <tr>\n",
       "      <th>8</th>\n",
       "      <td>Chemical Engineering</td>\n",
       "      <td>194000.0</td>\n",
       "    </tr>\n",
       "    <tr>\n",
       "      <th>37</th>\n",
       "      <td>Math</td>\n",
       "      <td>183000.0</td>\n",
       "    </tr>\n",
       "    <tr>\n",
       "      <th>44</th>\n",
       "      <td>Physics</td>\n",
       "      <td>178000.0</td>\n",
       "    </tr>\n",
       "  </tbody>\n",
       "</table>\n",
       "</div>"
      ],
      "text/plain": [
       "     Undergraduate Major  Mid-Career 90th Percentile Salary\n",
       "17             Economics                           210000.0\n",
       "22               Finance                           195000.0\n",
       "8   Chemical Engineering                           194000.0\n",
       "37                  Math                           183000.0\n",
       "44               Physics                           178000.0"
      ]
     },
     "execution_count": 21,
     "metadata": {},
     "output_type": "execute_result"
    }
   ],
   "source": [
    "# show highest salary (90th percentile)\n",
    "highest_potential = clean_df.sort_values('Mid-Career 90th Percentile Salary', ascending=False)\n",
    "highest_potential[['Undergraduate Major', 'Mid-Career 90th Percentile Salary']].head()"
   ]
  },
  {
   "cell_type": "code",
   "execution_count": 22,
   "metadata": {
    "colab": {
     "base_uri": "https://localhost:8080/",
     "height": 202
    },
    "id": "C1hg41AqOkk3",
    "outputId": "533f4ae0-ec05-4814-b9d6-ac94c870f9fa"
   },
   "outputs": [
    {
     "data": {
      "text/html": [
       "<div>\n",
       "<style scoped>\n",
       "    .dataframe tbody tr th:only-of-type {\n",
       "        vertical-align: middle;\n",
       "    }\n",
       "\n",
       "    .dataframe tbody tr th {\n",
       "        vertical-align: top;\n",
       "    }\n",
       "\n",
       "    .dataframe thead th {\n",
       "        text-align: right;\n",
       "    }\n",
       "</style>\n",
       "<table border=\"1\" class=\"dataframe\">\n",
       "  <thead>\n",
       "    <tr style=\"text-align: right;\">\n",
       "      <th></th>\n",
       "      <th>Undergraduate Major</th>\n",
       "      <th>Spread</th>\n",
       "    </tr>\n",
       "  </thead>\n",
       "  <tbody>\n",
       "    <tr>\n",
       "      <th>17</th>\n",
       "      <td>Economics</td>\n",
       "      <td>159400.0</td>\n",
       "    </tr>\n",
       "    <tr>\n",
       "      <th>22</th>\n",
       "      <td>Finance</td>\n",
       "      <td>147800.0</td>\n",
       "    </tr>\n",
       "    <tr>\n",
       "      <th>37</th>\n",
       "      <td>Math</td>\n",
       "      <td>137800.0</td>\n",
       "    </tr>\n",
       "    <tr>\n",
       "      <th>36</th>\n",
       "      <td>Marketing</td>\n",
       "      <td>132900.0</td>\n",
       "    </tr>\n",
       "    <tr>\n",
       "      <th>42</th>\n",
       "      <td>Philosophy</td>\n",
       "      <td>132500.0</td>\n",
       "    </tr>\n",
       "  </tbody>\n",
       "</table>\n",
       "</div>"
      ],
      "text/plain": [
       "   Undergraduate Major    Spread\n",
       "17           Economics  159400.0\n",
       "22             Finance  147800.0\n",
       "37                Math  137800.0\n",
       "36           Marketing  132900.0\n",
       "42          Philosophy  132500.0"
      ]
     },
     "execution_count": 22,
     "metadata": {},
     "output_type": "execute_result"
    }
   ],
   "source": [
    "highest_spread = clean_df.sort_values('Spread', ascending=False)\n",
    "highest_spread[['Undergraduate Major', 'Spread']].head()"
   ]
  },
  {
   "cell_type": "code",
   "execution_count": 23,
   "metadata": {
    "colab": {
     "base_uri": "https://localhost:8080/",
     "height": 202
    },
    "id": "kKeiNcrzO-K5",
    "outputId": "3aaf2680-7e13-4447-a23a-3743257e45a5"
   },
   "outputs": [
    {
     "data": {
      "text/html": [
       "<div>\n",
       "<style scoped>\n",
       "    .dataframe tbody tr th:only-of-type {\n",
       "        vertical-align: middle;\n",
       "    }\n",
       "\n",
       "    .dataframe tbody tr th {\n",
       "        vertical-align: top;\n",
       "    }\n",
       "\n",
       "    .dataframe thead th {\n",
       "        text-align: right;\n",
       "    }\n",
       "</style>\n",
       "<table border=\"1\" class=\"dataframe\">\n",
       "  <thead>\n",
       "    <tr style=\"text-align: right;\">\n",
       "      <th></th>\n",
       "      <th>Undergraduate Major</th>\n",
       "      <th>Mid-Career Median Salary</th>\n",
       "    </tr>\n",
       "  </thead>\n",
       "  <tbody>\n",
       "    <tr>\n",
       "      <th>8</th>\n",
       "      <td>Chemical Engineering</td>\n",
       "      <td>107000.0</td>\n",
       "    </tr>\n",
       "    <tr>\n",
       "      <th>12</th>\n",
       "      <td>Computer Engineering</td>\n",
       "      <td>105000.0</td>\n",
       "    </tr>\n",
       "    <tr>\n",
       "      <th>19</th>\n",
       "      <td>Electrical Engineering</td>\n",
       "      <td>103000.0</td>\n",
       "    </tr>\n",
       "    <tr>\n",
       "      <th>1</th>\n",
       "      <td>Aerospace Engineering</td>\n",
       "      <td>101000.0</td>\n",
       "    </tr>\n",
       "    <tr>\n",
       "      <th>17</th>\n",
       "      <td>Economics</td>\n",
       "      <td>98600.0</td>\n",
       "    </tr>\n",
       "  </tbody>\n",
       "</table>\n",
       "</div>"
      ],
      "text/plain": [
       "       Undergraduate Major  Mid-Career Median Salary\n",
       "8     Chemical Engineering                  107000.0\n",
       "12    Computer Engineering                  105000.0\n",
       "19  Electrical Engineering                  103000.0\n",
       "1    Aerospace Engineering                  101000.0\n",
       "17               Economics                   98600.0"
      ]
     },
     "execution_count": 23,
     "metadata": {},
     "output_type": "execute_result"
    }
   ],
   "source": [
    "highest_spread = clean_df.sort_values('Mid-Career Median Salary', ascending=False)\n",
    "highest_spread[['Undergraduate Major', 'Mid-Career Median Salary']].head()"
   ]
  },
  {
   "cell_type": "markdown",
   "metadata": {
    "id": "xG7RuPajWwkN"
   },
   "source": [
    "# Grouping and Pivoting Data"
   ]
  },
  {
   "cell_type": "code",
   "execution_count": 24,
   "metadata": {},
   "outputs": [
    {
     "data": {
      "text/html": [
       "<div>\n",
       "<style scoped>\n",
       "    .dataframe tbody tr th:only-of-type {\n",
       "        vertical-align: middle;\n",
       "    }\n",
       "\n",
       "    .dataframe tbody tr th {\n",
       "        vertical-align: top;\n",
       "    }\n",
       "\n",
       "    .dataframe thead th {\n",
       "        text-align: right;\n",
       "    }\n",
       "</style>\n",
       "<table border=\"1\" class=\"dataframe\">\n",
       "  <thead>\n",
       "    <tr style=\"text-align: right;\">\n",
       "      <th></th>\n",
       "      <th>Undergraduate Major</th>\n",
       "      <th>Group</th>\n",
       "    </tr>\n",
       "  </thead>\n",
       "  <tbody>\n",
       "    <tr>\n",
       "      <th>0</th>\n",
       "      <td>Accounting</td>\n",
       "      <td>Business</td>\n",
       "    </tr>\n",
       "  </tbody>\n",
       "</table>\n",
       "</div>"
      ],
      "text/plain": [
       "  Undergraduate Major     Group\n",
       "0          Accounting  Business"
      ]
     },
     "execution_count": 24,
     "metadata": {},
     "output_type": "execute_result"
    }
   ],
   "source": [
    "# first we load a new dataset\n",
    "degree_by_group = pd.read_csv('degree_group.csv')\n",
    "degree_by_group.head(1)"
   ]
  },
  {
   "cell_type": "code",
   "execution_count": 25,
   "metadata": {},
   "outputs": [
    {
     "name": "stdout",
     "output_type": "stream",
     "text": [
      "<class 'pandas.core.frame.DataFrame'>\n",
      "Int64Index: 50 entries, 0 to 49\n",
      "Data columns (total 9 columns):\n",
      " #   Column                                             Non-Null Count  Dtype  \n",
      "---  ------                                             --------------  -----  \n",
      " 0   Undergraduate Major                                50 non-null     object \n",
      " 1   Spread                                             50 non-null     float64\n",
      " 2   Starting Median Salary                             50 non-null     float64\n",
      " 3   Mid-Career Median Salary                           50 non-null     float64\n",
      " 4   Percent change from Starting to Mid-Career Salary  50 non-null     float64\n",
      " 5   Mid-Career 10th Percentile Salary                  50 non-null     float64\n",
      " 6   Mid-Career 25th Percentile Salary                  50 non-null     float64\n",
      " 7   Mid-Career 75th Percentile Salary                  50 non-null     float64\n",
      " 8   Mid-Career 90th Percentile Salary                  50 non-null     float64\n",
      "dtypes: float64(8), object(1)\n",
      "memory usage: 6.0+ KB\n",
      "<class 'pandas.core.frame.DataFrame'>\n",
      "RangeIndex: 50 entries, 0 to 49\n",
      "Data columns (total 2 columns):\n",
      " #   Column               Non-Null Count  Dtype \n",
      "---  ------               --------------  ----- \n",
      " 0   Undergraduate Major  50 non-null     object\n",
      " 1   Group                50 non-null     object\n",
      "dtypes: object(2)\n",
      "memory usage: 928.0+ bytes\n",
      "<class 'pandas.core.frame.DataFrame'>\n",
      "Int64Index: 50 entries, 0 to 49\n",
      "Data columns (total 10 columns):\n",
      " #   Column                                             Non-Null Count  Dtype  \n",
      "---  ------                                             --------------  -----  \n",
      " 0   Undergraduate Major                                50 non-null     object \n",
      " 1   Spread                                             50 non-null     float64\n",
      " 2   Starting Median Salary                             50 non-null     float64\n",
      " 3   Mid-Career Median Salary                           50 non-null     float64\n",
      " 4   Percent change from Starting to Mid-Career Salary  50 non-null     float64\n",
      " 5   Mid-Career 10th Percentile Salary                  50 non-null     float64\n",
      " 6   Mid-Career 25th Percentile Salary                  50 non-null     float64\n",
      " 7   Mid-Career 75th Percentile Salary                  50 non-null     float64\n",
      " 8   Mid-Career 90th Percentile Salary                  50 non-null     float64\n",
      " 9   Group                                              50 non-null     object \n",
      "dtypes: float64(8), object(2)\n",
      "memory usage: 4.3+ KB\n"
     ]
    }
   ],
   "source": [
    "# join data with clean_df; check if everything went well with .info()\n",
    "clean_df.info()\n",
    "degree_by_group.info()\n",
    "clean_df = pd.merge(clean_df, degree_by_group, on='Undergraduate Major')\n",
    "clean_df.info()"
   ]
  },
  {
   "cell_type": "code",
   "execution_count": 26,
   "metadata": {
    "colab": {
     "base_uri": "https://localhost:8080/",
     "height": 206
    },
    "id": "LKAVOVJTP5iQ",
    "outputId": "b9eb6c5a-9f04-49e3-e99d-9c425a97f05f"
   },
   "outputs": [
    {
     "data": {
      "text/html": [
       "<div>\n",
       "<style scoped>\n",
       "    .dataframe tbody tr th:only-of-type {\n",
       "        vertical-align: middle;\n",
       "    }\n",
       "\n",
       "    .dataframe tbody tr th {\n",
       "        vertical-align: top;\n",
       "    }\n",
       "\n",
       "    .dataframe thead th {\n",
       "        text-align: right;\n",
       "    }\n",
       "</style>\n",
       "<table border=\"1\" class=\"dataframe\">\n",
       "  <thead>\n",
       "    <tr style=\"text-align: right;\">\n",
       "      <th></th>\n",
       "      <th>Undergraduate Major</th>\n",
       "      <th>Spread</th>\n",
       "      <th>Starting Median Salary</th>\n",
       "      <th>Mid-Career Median Salary</th>\n",
       "      <th>Percent change from Starting to Mid-Career Salary</th>\n",
       "      <th>Mid-Career 10th Percentile Salary</th>\n",
       "      <th>Mid-Career 25th Percentile Salary</th>\n",
       "      <th>Mid-Career 75th Percentile Salary</th>\n",
       "      <th>Mid-Career 90th Percentile Salary</th>\n",
       "    </tr>\n",
       "    <tr>\n",
       "      <th>Group</th>\n",
       "      <th></th>\n",
       "      <th></th>\n",
       "      <th></th>\n",
       "      <th></th>\n",
       "      <th></th>\n",
       "      <th></th>\n",
       "      <th></th>\n",
       "      <th></th>\n",
       "      <th></th>\n",
       "    </tr>\n",
       "  </thead>\n",
       "  <tbody>\n",
       "    <tr>\n",
       "      <th>Business</th>\n",
       "      <td>12</td>\n",
       "      <td>12</td>\n",
       "      <td>12</td>\n",
       "      <td>12</td>\n",
       "      <td>12</td>\n",
       "      <td>12</td>\n",
       "      <td>12</td>\n",
       "      <td>12</td>\n",
       "      <td>12</td>\n",
       "    </tr>\n",
       "    <tr>\n",
       "      <th>HASS</th>\n",
       "      <td>22</td>\n",
       "      <td>22</td>\n",
       "      <td>22</td>\n",
       "      <td>22</td>\n",
       "      <td>22</td>\n",
       "      <td>22</td>\n",
       "      <td>22</td>\n",
       "      <td>22</td>\n",
       "      <td>22</td>\n",
       "    </tr>\n",
       "    <tr>\n",
       "      <th>STEM</th>\n",
       "      <td>16</td>\n",
       "      <td>16</td>\n",
       "      <td>16</td>\n",
       "      <td>16</td>\n",
       "      <td>16</td>\n",
       "      <td>16</td>\n",
       "      <td>16</td>\n",
       "      <td>16</td>\n",
       "      <td>16</td>\n",
       "    </tr>\n",
       "  </tbody>\n",
       "</table>\n",
       "</div>"
      ],
      "text/plain": [
       "          Undergraduate Major  Spread  Starting Median Salary  \\\n",
       "Group                                                           \n",
       "Business                   12      12                      12   \n",
       "HASS                       22      22                      22   \n",
       "STEM                       16      16                      16   \n",
       "\n",
       "          Mid-Career Median Salary  \\\n",
       "Group                                \n",
       "Business                        12   \n",
       "HASS                            22   \n",
       "STEM                            16   \n",
       "\n",
       "          Percent change from Starting to Mid-Career Salary  \\\n",
       "Group                                                         \n",
       "Business                                                 12   \n",
       "HASS                                                     22   \n",
       "STEM                                                     16   \n",
       "\n",
       "          Mid-Career 10th Percentile Salary  \\\n",
       "Group                                         \n",
       "Business                                 12   \n",
       "HASS                                     22   \n",
       "STEM                                     16   \n",
       "\n",
       "          Mid-Career 25th Percentile Salary  \\\n",
       "Group                                         \n",
       "Business                                 12   \n",
       "HASS                                     22   \n",
       "STEM                                     16   \n",
       "\n",
       "          Mid-Career 75th Percentile Salary  Mid-Career 90th Percentile Salary  \n",
       "Group                                                                           \n",
       "Business                                 12                                 12  \n",
       "HASS                                     22                                 22  \n",
       "STEM                                     16                                 16  "
      ]
     },
     "execution_count": 26,
     "metadata": {},
     "output_type": "execute_result"
    }
   ],
   "source": [
    "clean_df.groupby('Group').count()"
   ]
  },
  {
   "cell_type": "code",
   "execution_count": 27,
   "metadata": {
    "colab": {
     "base_uri": "https://localhost:8080/",
     "height": 189
    },
    "id": "2PPBqgJbRR_a",
    "outputId": "567a3587-fc1e-4374-95c0-e45f1fe0dc1b"
   },
   "outputs": [
    {
     "data": {
      "text/html": [
       "<div>\n",
       "<style scoped>\n",
       "    .dataframe tbody tr th:only-of-type {\n",
       "        vertical-align: middle;\n",
       "    }\n",
       "\n",
       "    .dataframe tbody tr th {\n",
       "        vertical-align: top;\n",
       "    }\n",
       "\n",
       "    .dataframe thead th {\n",
       "        text-align: right;\n",
       "    }\n",
       "</style>\n",
       "<table border=\"1\" class=\"dataframe\">\n",
       "  <thead>\n",
       "    <tr style=\"text-align: right;\">\n",
       "      <th></th>\n",
       "      <th>Spread</th>\n",
       "      <th>Starting Median Salary</th>\n",
       "      <th>Mid-Career Median Salary</th>\n",
       "      <th>Percent change from Starting to Mid-Career Salary</th>\n",
       "      <th>Mid-Career 10th Percentile Salary</th>\n",
       "      <th>Mid-Career 25th Percentile Salary</th>\n",
       "      <th>Mid-Career 75th Percentile Salary</th>\n",
       "      <th>Mid-Career 90th Percentile Salary</th>\n",
       "    </tr>\n",
       "    <tr>\n",
       "      <th>Group</th>\n",
       "      <th></th>\n",
       "      <th></th>\n",
       "      <th></th>\n",
       "      <th></th>\n",
       "      <th></th>\n",
       "      <th></th>\n",
       "      <th></th>\n",
       "      <th></th>\n",
       "    </tr>\n",
       "  </thead>\n",
       "  <tbody>\n",
       "    <tr>\n",
       "      <th>Business</th>\n",
       "      <td>103958.333333</td>\n",
       "      <td>44633.333333</td>\n",
       "      <td>75083.333333</td>\n",
       "      <td>68.533333</td>\n",
       "      <td>43566.666667</td>\n",
       "      <td>56100.000000</td>\n",
       "      <td>102758.333333</td>\n",
       "      <td>147525.000000</td>\n",
       "    </tr>\n",
       "    <tr>\n",
       "      <th>HASS</th>\n",
       "      <td>95218.181818</td>\n",
       "      <td>37186.363636</td>\n",
       "      <td>62968.181818</td>\n",
       "      <td>68.868182</td>\n",
       "      <td>34145.454545</td>\n",
       "      <td>45086.363636</td>\n",
       "      <td>89709.090909</td>\n",
       "      <td>129363.636364</td>\n",
       "    </tr>\n",
       "    <tr>\n",
       "      <th>STEM</th>\n",
       "      <td>101600.000000</td>\n",
       "      <td>53862.500000</td>\n",
       "      <td>90812.500000</td>\n",
       "      <td>70.387500</td>\n",
       "      <td>56025.000000</td>\n",
       "      <td>70893.750000</td>\n",
       "      <td>118762.500000</td>\n",
       "      <td>157625.000000</td>\n",
       "    </tr>\n",
       "  </tbody>\n",
       "</table>\n",
       "</div>"
      ],
      "text/plain": [
       "                 Spread  Starting Median Salary  Mid-Career Median Salary  \\\n",
       "Group                                                                       \n",
       "Business  103958.333333            44633.333333              75083.333333   \n",
       "HASS       95218.181818            37186.363636              62968.181818   \n",
       "STEM      101600.000000            53862.500000              90812.500000   \n",
       "\n",
       "          Percent change from Starting to Mid-Career Salary  \\\n",
       "Group                                                         \n",
       "Business                                          68.533333   \n",
       "HASS                                              68.868182   \n",
       "STEM                                              70.387500   \n",
       "\n",
       "          Mid-Career 10th Percentile Salary  \\\n",
       "Group                                         \n",
       "Business                       43566.666667   \n",
       "HASS                           34145.454545   \n",
       "STEM                           56025.000000   \n",
       "\n",
       "          Mid-Career 25th Percentile Salary  \\\n",
       "Group                                         \n",
       "Business                       56100.000000   \n",
       "HASS                           45086.363636   \n",
       "STEM                           70893.750000   \n",
       "\n",
       "          Mid-Career 75th Percentile Salary  Mid-Career 90th Percentile Salary  \n",
       "Group                                                                           \n",
       "Business                      102758.333333                      147525.000000  \n",
       "HASS                           89709.090909                      129363.636364  \n",
       "STEM                          118762.500000                      157625.000000  "
      ]
     },
     "execution_count": 27,
     "metadata": {},
     "output_type": "execute_result"
    }
   ],
   "source": [
    "clean_df.groupby('Group').mean()"
   ]
  },
  {
   "cell_type": "code",
   "execution_count": null,
   "metadata": {
    "id": "jMkNL2nGR6ia"
   },
   "outputs": [],
   "source": []
  }
 ],
 "metadata": {
  "colab": {
   "name": "Data Exploration Pandas College Major (complete).ipynb",
   "provenance": [],
   "toc_visible": true
  },
  "kernelspec": {
   "display_name": "Python 3 (ipykernel)",
   "language": "python",
   "name": "python3"
  },
  "language_info": {
   "codemirror_mode": {
    "name": "ipython",
    "version": 3
   },
   "file_extension": ".py",
   "mimetype": "text/x-python",
   "name": "python",
   "nbconvert_exporter": "python",
   "pygments_lexer": "ipython3",
   "version": "3.9.4"
  }
 },
 "nbformat": 4,
 "nbformat_minor": 1
}
